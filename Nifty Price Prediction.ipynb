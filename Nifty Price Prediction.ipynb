{
 "cells": [
  {
   "cell_type": "markdown",
   "metadata": {},
   "source": [
    "# Nifty50 Price Prediction"
   ]
  },
  {
   "cell_type": "code",
   "execution_count": 1,
   "metadata": {
    "executionInfo": {
     "elapsed": 9587,
     "status": "ok",
     "timestamp": 1711989158922,
     "user": {
      "displayName": "Yudhisthir Dadhich",
      "userId": "12025015466868442242"
     },
     "user_tz": -330
    },
    "id": "vEK852MceknP"
   },
   "outputs": [],
   "source": [
    "import numpy as np\n",
    "import pandas as pd\n",
    "from sklearn.preprocessing import MinMaxScaler\n",
    "from tensorflow.keras.models import Sequential\n",
    "from tensorflow.keras.layers import LSTM, Dense\n",
    "from sklearn.metrics import mean_squared_error\n",
    "import time\n",
    "import tensorflow.keras.callbacks as keras_callbacks"
   ]
  },
  {
   "cell_type": "code",
   "execution_count": 3,
   "metadata": {
    "colab": {
     "base_uri": "https://localhost:8080/"
    },
    "executionInfo": {
     "elapsed": 506,
     "status": "ok",
     "timestamp": 1711989282187,
     "user": {
      "displayName": "Yudhisthir Dadhich",
      "userId": "12025015466868442242"
     },
     "user_tz": -330
    },
    "id": "tKy6E5tWgSw0",
    "outputId": "b48d7eba-3d85-420b-dc83-7a0120c12dcb"
   },
   "outputs": [
    {
     "name": "stderr",
     "output_type": "stream",
     "text": [
      "<ipython-input-3-1b49d7eea2ce>:2: UserWarning: Parsing dates in DD/MM/YYYY format when dayfirst=False (the default) was specified. This may lead to inconsistently parsed dates! Specify a format to ensure consistent parsing.\n",
      "  data['Date'] = pd.to_datetime(data['Date'])\n"
     ]
    }
   ],
   "source": [
    "data = pd.read_csv(r'/content/Nifty_data.csv')\n",
    "data['Date'] = pd.to_datetime(data['Date'])\n",
    "data.set_index('Date', inplace=True)"
   ]
  },
  {
   "cell_type": "code",
   "execution_count": 4,
   "metadata": {
    "colab": {
     "base_uri": "https://localhost:8080/",
     "height": 238
    },
    "executionInfo": {
     "elapsed": 662,
     "status": "ok",
     "timestamp": 1711989295017,
     "user": {
      "displayName": "Yudhisthir Dadhich",
      "userId": "12025015466868442242"
     },
     "user_tz": -330
    },
    "id": "4ufg5XajgqNl",
    "outputId": "445a51d6-d02f-4032-f0ed-2b288296ce36"
   },
   "outputs": [
    {
     "data": {
      "application/vnd.google.colaboratory.intrinsic+json": {
       "summary": "{\n  \"name\": \"data\",\n  \"rows\": 2761,\n  \"fields\": [\n    {\n      \"column\": \"Date\",\n      \"properties\": {\n        \"dtype\": \"date\",\n        \"min\": \"2013-01-02 00:00:00\",\n        \"max\": \"2024-12-03 00:00:00\",\n        \"num_unique_values\": 2761,\n        \"samples\": [\n          \"2014-07-14 00:00:00\",\n          \"2024-03-27 00:00:00\",\n          \"2018-12-06 00:00:00\"\n        ],\n        \"semantic_type\": \"\",\n        \"description\": \"\"\n      }\n    },\n    {\n      \"column\": \"Date.1\",\n      \"properties\": {\n        \"dtype\": \"number\",\n        \"std\": 4386.267802186984,\n        \"min\": 5233.450195,\n        \"max\": 22517.5,\n        \"num_unique_values\": 2730,\n        \"samples\": [\n          8915.099609,\n          21932.19922,\n          15847.5\n        ],\n        \"semantic_type\": \"\",\n        \"description\": \"\"\n      }\n    },\n    {\n      \"column\": \"Date.2\",\n      \"properties\": {\n        \"dtype\": \"number\",\n        \"std\": 4401.376556363637,\n        \"min\": 5317.700195,\n        \"max\": 22526.59961,\n        \"num_unique_values\": 2732,\n        \"samples\": [\n          8957.049805,\n          10026.04981,\n          19729.34961\n        ],\n        \"semantic_type\": \"\",\n        \"description\": \"\"\n      }\n    },\n    {\n      \"column\": \"Low\",\n      \"properties\": {\n        \"dtype\": \"number\",\n        \"std\": 4364.827172527442,\n        \"min\": 5118.850098,\n        \"max\": 22430.0,\n        \"num_unique_values\": 2727,\n        \"samples\": [\n          10885.75,\n          10005.5,\n          8855.299805\n        ],\n        \"semantic_type\": \"\",\n        \"description\": \"\"\n      }\n    },\n    {\n      \"column\": \"Close\",\n      \"properties\": {\n        \"dtype\": \"number\",\n        \"std\": 4385.116763859372,\n        \"min\": 5285.0,\n        \"max\": 22493.55078,\n        \"num_unique_values\": 2724,\n        \"samples\": [\n          17222.75,\n          10980.0,\n          10661.54981\n        ],\n        \"semantic_type\": \"\",\n        \"description\": \"\"\n      }\n    },\n    {\n      \"column\": \"Adj Close\",\n      \"properties\": {\n        \"dtype\": \"number\",\n        \"std\": 4385.116763859372,\n        \"min\": 5285.0,\n        \"max\": 22493.55078,\n        \"num_unique_values\": 2724,\n        \"samples\": [\n          17222.75,\n          10980.0,\n          10661.54981\n        ],\n        \"semantic_type\": \"\",\n        \"description\": \"\"\n      }\n    },\n    {\n      \"column\": \"Volume\",\n      \"properties\": {\n        \"dtype\": \"number\",\n        \"std\": 192877.44003555833,\n        \"min\": 0.0,\n        \"max\": 1811000.0,\n        \"num_unique_values\": 1956,\n        \"samples\": [\n          668700.0,\n          314900.0,\n          629100.0\n        ],\n        \"semantic_type\": \"\",\n        \"description\": \"\"\n      }\n    }\n  ]\n}",
       "type": "dataframe",
       "variable_name": "data"
      },
      "text/html": [
       "\n",
       "  <div id=\"df-79f4f212-2c63-41b7-8031-1a38fff8eedb\" class=\"colab-df-container\">\n",
       "    <div>\n",
       "<style scoped>\n",
       "    .dataframe tbody tr th:only-of-type {\n",
       "        vertical-align: middle;\n",
       "    }\n",
       "\n",
       "    .dataframe tbody tr th {\n",
       "        vertical-align: top;\n",
       "    }\n",
       "\n",
       "    .dataframe thead th {\n",
       "        text-align: right;\n",
       "    }\n",
       "</style>\n",
       "<table border=\"1\" class=\"dataframe\">\n",
       "  <thead>\n",
       "    <tr style=\"text-align: right;\">\n",
       "      <th></th>\n",
       "      <th>Date.1</th>\n",
       "      <th>Date.2</th>\n",
       "      <th>Low</th>\n",
       "      <th>Close</th>\n",
       "      <th>Adj Close</th>\n",
       "      <th>Volume</th>\n",
       "    </tr>\n",
       "    <tr>\n",
       "      <th>Date</th>\n",
       "      <th></th>\n",
       "      <th></th>\n",
       "      <th></th>\n",
       "      <th></th>\n",
       "      <th></th>\n",
       "      <th></th>\n",
       "    </tr>\n",
       "  </thead>\n",
       "  <tbody>\n",
       "    <tr>\n",
       "      <th>2013-01-21</th>\n",
       "      <td>6085.750000</td>\n",
       "      <td>6094.350098</td>\n",
       "      <td>6065.100098</td>\n",
       "      <td>6082.299805</td>\n",
       "      <td>6082.299805</td>\n",
       "      <td>130900.0</td>\n",
       "    </tr>\n",
       "    <tr>\n",
       "      <th>2013-01-22</th>\n",
       "      <td>6080.149902</td>\n",
       "      <td>6101.299805</td>\n",
       "      <td>6040.500000</td>\n",
       "      <td>6048.500000</td>\n",
       "      <td>6048.500000</td>\n",
       "      <td>129000.0</td>\n",
       "    </tr>\n",
       "    <tr>\n",
       "      <th>2013-01-23</th>\n",
       "      <td>6052.850098</td>\n",
       "      <td>6069.799805</td>\n",
       "      <td>6021.149902</td>\n",
       "      <td>6054.299805</td>\n",
       "      <td>6054.299805</td>\n",
       "      <td>137000.0</td>\n",
       "    </tr>\n",
       "    <tr>\n",
       "      <th>2013-01-24</th>\n",
       "      <td>6046.200195</td>\n",
       "      <td>6065.299805</td>\n",
       "      <td>6007.850098</td>\n",
       "      <td>6019.350098</td>\n",
       "      <td>6019.350098</td>\n",
       "      <td>185200.0</td>\n",
       "    </tr>\n",
       "    <tr>\n",
       "      <th>2013-01-25</th>\n",
       "      <td>6024.500000</td>\n",
       "      <td>6080.549805</td>\n",
       "      <td>6014.450195</td>\n",
       "      <td>6074.649902</td>\n",
       "      <td>6074.649902</td>\n",
       "      <td>147600.0</td>\n",
       "    </tr>\n",
       "  </tbody>\n",
       "</table>\n",
       "</div>\n",
       "    <div class=\"colab-df-buttons\">\n",
       "\n",
       "  <div class=\"colab-df-container\">\n",
       "    <button class=\"colab-df-convert\" onclick=\"convertToInteractive('df-79f4f212-2c63-41b7-8031-1a38fff8eedb')\"\n",
       "            title=\"Convert this dataframe to an interactive table.\"\n",
       "            style=\"display:none;\">\n",
       "\n",
       "  <svg xmlns=\"http://www.w3.org/2000/svg\" height=\"24px\" viewBox=\"0 -960 960 960\">\n",
       "    <path d=\"M120-120v-720h720v720H120Zm60-500h600v-160H180v160Zm220 220h160v-160H400v160Zm0 220h160v-160H400v160ZM180-400h160v-160H180v160Zm440 0h160v-160H620v160ZM180-180h160v-160H180v160Zm440 0h160v-160H620v160Z\"/>\n",
       "  </svg>\n",
       "    </button>\n",
       "\n",
       "  <style>\n",
       "    .colab-df-container {\n",
       "      display:flex;\n",
       "      gap: 12px;\n",
       "    }\n",
       "\n",
       "    .colab-df-convert {\n",
       "      background-color: #E8F0FE;\n",
       "      border: none;\n",
       "      border-radius: 50%;\n",
       "      cursor: pointer;\n",
       "      display: none;\n",
       "      fill: #1967D2;\n",
       "      height: 32px;\n",
       "      padding: 0 0 0 0;\n",
       "      width: 32px;\n",
       "    }\n",
       "\n",
       "    .colab-df-convert:hover {\n",
       "      background-color: #E2EBFA;\n",
       "      box-shadow: 0px 1px 2px rgba(60, 64, 67, 0.3), 0px 1px 3px 1px rgba(60, 64, 67, 0.15);\n",
       "      fill: #174EA6;\n",
       "    }\n",
       "\n",
       "    .colab-df-buttons div {\n",
       "      margin-bottom: 4px;\n",
       "    }\n",
       "\n",
       "    [theme=dark] .colab-df-convert {\n",
       "      background-color: #3B4455;\n",
       "      fill: #D2E3FC;\n",
       "    }\n",
       "\n",
       "    [theme=dark] .colab-df-convert:hover {\n",
       "      background-color: #434B5C;\n",
       "      box-shadow: 0px 1px 3px 1px rgba(0, 0, 0, 0.15);\n",
       "      filter: drop-shadow(0px 1px 2px rgba(0, 0, 0, 0.3));\n",
       "      fill: #FFFFFF;\n",
       "    }\n",
       "  </style>\n",
       "\n",
       "    <script>\n",
       "      const buttonEl =\n",
       "        document.querySelector('#df-79f4f212-2c63-41b7-8031-1a38fff8eedb button.colab-df-convert');\n",
       "      buttonEl.style.display =\n",
       "        google.colab.kernel.accessAllowed ? 'block' : 'none';\n",
       "\n",
       "      async function convertToInteractive(key) {\n",
       "        const element = document.querySelector('#df-79f4f212-2c63-41b7-8031-1a38fff8eedb');\n",
       "        const dataTable =\n",
       "          await google.colab.kernel.invokeFunction('convertToInteractive',\n",
       "                                                    [key], {});\n",
       "        if (!dataTable) return;\n",
       "\n",
       "        const docLinkHtml = 'Like what you see? Visit the ' +\n",
       "          '<a target=\"_blank\" href=https://colab.research.google.com/notebooks/data_table.ipynb>data table notebook</a>'\n",
       "          + ' to learn more about interactive tables.';\n",
       "        element.innerHTML = '';\n",
       "        dataTable['output_type'] = 'display_data';\n",
       "        await google.colab.output.renderOutput(dataTable, element);\n",
       "        const docLink = document.createElement('div');\n",
       "        docLink.innerHTML = docLinkHtml;\n",
       "        element.appendChild(docLink);\n",
       "      }\n",
       "    </script>\n",
       "  </div>\n",
       "\n",
       "\n",
       "<div id=\"df-8210b908-69ac-4362-80f6-c1684e2cf1b5\">\n",
       "  <button class=\"colab-df-quickchart\" onclick=\"quickchart('df-8210b908-69ac-4362-80f6-c1684e2cf1b5')\"\n",
       "            title=\"Suggest charts\"\n",
       "            style=\"display:none;\">\n",
       "\n",
       "<svg xmlns=\"http://www.w3.org/2000/svg\" height=\"24px\"viewBox=\"0 0 24 24\"\n",
       "     width=\"24px\">\n",
       "    <g>\n",
       "        <path d=\"M19 3H5c-1.1 0-2 .9-2 2v14c0 1.1.9 2 2 2h14c1.1 0 2-.9 2-2V5c0-1.1-.9-2-2-2zM9 17H7v-7h2v7zm4 0h-2V7h2v10zm4 0h-2v-4h2v4z\"/>\n",
       "    </g>\n",
       "</svg>\n",
       "  </button>\n",
       "\n",
       "<style>\n",
       "  .colab-df-quickchart {\n",
       "      --bg-color: #E8F0FE;\n",
       "      --fill-color: #1967D2;\n",
       "      --hover-bg-color: #E2EBFA;\n",
       "      --hover-fill-color: #174EA6;\n",
       "      --disabled-fill-color: #AAA;\n",
       "      --disabled-bg-color: #DDD;\n",
       "  }\n",
       "\n",
       "  [theme=dark] .colab-df-quickchart {\n",
       "      --bg-color: #3B4455;\n",
       "      --fill-color: #D2E3FC;\n",
       "      --hover-bg-color: #434B5C;\n",
       "      --hover-fill-color: #FFFFFF;\n",
       "      --disabled-bg-color: #3B4455;\n",
       "      --disabled-fill-color: #666;\n",
       "  }\n",
       "\n",
       "  .colab-df-quickchart {\n",
       "    background-color: var(--bg-color);\n",
       "    border: none;\n",
       "    border-radius: 50%;\n",
       "    cursor: pointer;\n",
       "    display: none;\n",
       "    fill: var(--fill-color);\n",
       "    height: 32px;\n",
       "    padding: 0;\n",
       "    width: 32px;\n",
       "  }\n",
       "\n",
       "  .colab-df-quickchart:hover {\n",
       "    background-color: var(--hover-bg-color);\n",
       "    box-shadow: 0 1px 2px rgba(60, 64, 67, 0.3), 0 1px 3px 1px rgba(60, 64, 67, 0.15);\n",
       "    fill: var(--button-hover-fill-color);\n",
       "  }\n",
       "\n",
       "  .colab-df-quickchart-complete:disabled,\n",
       "  .colab-df-quickchart-complete:disabled:hover {\n",
       "    background-color: var(--disabled-bg-color);\n",
       "    fill: var(--disabled-fill-color);\n",
       "    box-shadow: none;\n",
       "  }\n",
       "\n",
       "  .colab-df-spinner {\n",
       "    border: 2px solid var(--fill-color);\n",
       "    border-color: transparent;\n",
       "    border-bottom-color: var(--fill-color);\n",
       "    animation:\n",
       "      spin 1s steps(1) infinite;\n",
       "  }\n",
       "\n",
       "  @keyframes spin {\n",
       "    0% {\n",
       "      border-color: transparent;\n",
       "      border-bottom-color: var(--fill-color);\n",
       "      border-left-color: var(--fill-color);\n",
       "    }\n",
       "    20% {\n",
       "      border-color: transparent;\n",
       "      border-left-color: var(--fill-color);\n",
       "      border-top-color: var(--fill-color);\n",
       "    }\n",
       "    30% {\n",
       "      border-color: transparent;\n",
       "      border-left-color: var(--fill-color);\n",
       "      border-top-color: var(--fill-color);\n",
       "      border-right-color: var(--fill-color);\n",
       "    }\n",
       "    40% {\n",
       "      border-color: transparent;\n",
       "      border-right-color: var(--fill-color);\n",
       "      border-top-color: var(--fill-color);\n",
       "    }\n",
       "    60% {\n",
       "      border-color: transparent;\n",
       "      border-right-color: var(--fill-color);\n",
       "    }\n",
       "    80% {\n",
       "      border-color: transparent;\n",
       "      border-right-color: var(--fill-color);\n",
       "      border-bottom-color: var(--fill-color);\n",
       "    }\n",
       "    90% {\n",
       "      border-color: transparent;\n",
       "      border-bottom-color: var(--fill-color);\n",
       "    }\n",
       "  }\n",
       "</style>\n",
       "\n",
       "  <script>\n",
       "    async function quickchart(key) {\n",
       "      const quickchartButtonEl =\n",
       "        document.querySelector('#' + key + ' button');\n",
       "      quickchartButtonEl.disabled = true;  // To prevent multiple clicks.\n",
       "      quickchartButtonEl.classList.add('colab-df-spinner');\n",
       "      try {\n",
       "        const charts = await google.colab.kernel.invokeFunction(\n",
       "            'suggestCharts', [key], {});\n",
       "      } catch (error) {\n",
       "        console.error('Error during call to suggestCharts:', error);\n",
       "      }\n",
       "      quickchartButtonEl.classList.remove('colab-df-spinner');\n",
       "      quickchartButtonEl.classList.add('colab-df-quickchart-complete');\n",
       "    }\n",
       "    (() => {\n",
       "      let quickchartButtonEl =\n",
       "        document.querySelector('#df-8210b908-69ac-4362-80f6-c1684e2cf1b5 button');\n",
       "      quickchartButtonEl.style.display =\n",
       "        google.colab.kernel.accessAllowed ? 'block' : 'none';\n",
       "    })();\n",
       "  </script>\n",
       "</div>\n",
       "\n",
       "    </div>\n",
       "  </div>\n"
      ],
      "text/plain": [
       "                 Date.1       Date.2          Low        Close    Adj Close  \\\n",
       "Date                                                                          \n",
       "2013-01-21  6085.750000  6094.350098  6065.100098  6082.299805  6082.299805   \n",
       "2013-01-22  6080.149902  6101.299805  6040.500000  6048.500000  6048.500000   \n",
       "2013-01-23  6052.850098  6069.799805  6021.149902  6054.299805  6054.299805   \n",
       "2013-01-24  6046.200195  6065.299805  6007.850098  6019.350098  6019.350098   \n",
       "2013-01-25  6024.500000  6080.549805  6014.450195  6074.649902  6074.649902   \n",
       "\n",
       "              Volume  \n",
       "Date                  \n",
       "2013-01-21  130900.0  \n",
       "2013-01-22  129000.0  \n",
       "2013-01-23  137000.0  \n",
       "2013-01-24  185200.0  \n",
       "2013-01-25  147600.0  "
      ]
     },
     "execution_count": 4,
     "metadata": {},
     "output_type": "execute_result"
    }
   ],
   "source": [
    "data.head()"
   ]
  },
  {
   "cell_type": "code",
   "execution_count": 5,
   "metadata": {
    "colab": {
     "base_uri": "https://localhost:8080/"
    },
    "executionInfo": {
     "elapsed": 11,
     "status": "ok",
     "timestamp": 1711989312675,
     "user": {
      "displayName": "Yudhisthir Dadhich",
      "userId": "12025015466868442242"
     },
     "user_tz": -330
    },
    "id": "5Q9XpZang4D7",
    "outputId": "9d8f9090-dc0f-42ea-d0d2-01ba3991f0da"
   },
   "outputs": [
    {
     "name": "stdout",
     "output_type": "stream",
     "text": [
      "<class 'pandas.core.frame.DataFrame'>\n",
      "DatetimeIndex: 2761 entries, 2013-01-21 to 2024-03-28\n",
      "Data columns (total 6 columns):\n",
      " #   Column     Non-Null Count  Dtype  \n",
      "---  ------     --------------  -----  \n",
      " 0   Date.1     2747 non-null   float64\n",
      " 1   Date.2     2747 non-null   float64\n",
      " 2   Low        2747 non-null   float64\n",
      " 3   Close      2747 non-null   float64\n",
      " 4   Adj Close  2747 non-null   float64\n",
      " 5   Volume     2747 non-null   float64\n",
      "dtypes: float64(6)\n",
      "memory usage: 151.0 KB\n"
     ]
    }
   ],
   "source": [
    "data.info()"
   ]
  },
  {
   "cell_type": "code",
   "execution_count": 6,
   "metadata": {
    "colab": {
     "base_uri": "https://localhost:8080/"
    },
    "executionInfo": {
     "elapsed": 12,
     "status": "ok",
     "timestamp": 1711989337865,
     "user": {
      "displayName": "Yudhisthir Dadhich",
      "userId": "12025015466868442242"
     },
     "user_tz": -330
    },
    "id": "U0ND26Iyg8kj",
    "outputId": "e126a2c0-837d-420d-e00d-7b436d610388"
   },
   "outputs": [
    {
     "data": {
      "text/plain": [
       "Date.1       14\n",
       "Date.2       14\n",
       "Low          14\n",
       "Close        14\n",
       "Adj Close    14\n",
       "Volume       14\n",
       "dtype: int64"
      ]
     },
     "execution_count": 6,
     "metadata": {},
     "output_type": "execute_result"
    }
   ],
   "source": [
    "data.isnull().sum()"
   ]
  },
  {
   "cell_type": "code",
   "execution_count": 9,
   "metadata": {
    "executionInfo": {
     "elapsed": 11,
     "status": "ok",
     "timestamp": 1711989431171,
     "user": {
      "displayName": "Yudhisthir Dadhich",
      "userId": "12025015466868442242"
     },
     "user_tz": -330
    },
    "id": "9K0iTTCHhCks"
   },
   "outputs": [],
   "source": [
    "data.dropna(inplace=True)"
   ]
  },
  {
   "cell_type": "code",
   "execution_count": 10,
   "metadata": {
    "colab": {
     "base_uri": "https://localhost:8080/"
    },
    "executionInfo": {
     "elapsed": 11,
     "status": "ok",
     "timestamp": 1711989433284,
     "user": {
      "displayName": "Yudhisthir Dadhich",
      "userId": "12025015466868442242"
     },
     "user_tz": -330
    },
    "id": "EiXGKgJqhL6Y",
    "outputId": "fffb0ce3-bc96-433e-b937-588333b8fa87"
   },
   "outputs": [
    {
     "data": {
      "text/plain": [
       "Date.1       0\n",
       "Date.2       0\n",
       "Low          0\n",
       "Close        0\n",
       "Adj Close    0\n",
       "Volume       0\n",
       "dtype: int64"
      ]
     },
     "execution_count": 10,
     "metadata": {},
     "output_type": "execute_result"
    }
   ],
   "source": [
    "data.isnull().sum()"
   ]
  },
  {
   "cell_type": "code",
   "execution_count": 11,
   "metadata": {
    "colab": {
     "base_uri": "https://localhost:8080/",
     "height": 300
    },
    "executionInfo": {
     "elapsed": 21,
     "status": "ok",
     "timestamp": 1711989465955,
     "user": {
      "displayName": "Yudhisthir Dadhich",
      "userId": "12025015466868442242"
     },
     "user_tz": -330
    },
    "id": "jklm5bZ3hf7T",
    "outputId": "5e25787e-f2c8-48b9-dda0-c18facca7f3c"
   },
   "outputs": [
    {
     "data": {
      "application/vnd.google.colaboratory.intrinsic+json": {
       "summary": "{\n  \"name\": \"data\",\n  \"rows\": 8,\n  \"fields\": [\n    {\n      \"column\": \"Date.1\",\n      \"properties\": {\n        \"dtype\": \"number\",\n        \"std\": 6568.5979340140275,\n        \"min\": 2747.0,\n        \"max\": 22517.5,\n        \"num_unique_values\": 8,\n        \"samples\": [\n          11620.58474939352,\n          10596.2002,\n          2747.0\n        ],\n        \"semantic_type\": \"\",\n        \"description\": \"\"\n      }\n    },\n    {\n      \"column\": \"Date.2\",\n      \"properties\": {\n        \"dtype\": \"number\",\n        \"std\": 6567.714388227234,\n        \"min\": 2747.0,\n        \"max\": 22526.59961,\n        \"num_unique_values\": 8,\n        \"samples\": [\n          11675.119677250092,\n          10631.65039,\n          2747.0\n        ],\n        \"semantic_type\": \"\",\n        \"description\": \"\"\n      }\n    },\n    {\n      \"column\": \"Low\",\n      \"properties\": {\n        \"dtype\": \"number\",\n        \"std\": 6546.7517470396915,\n        \"min\": 2747.0,\n        \"max\": 22430.0,\n        \"num_unique_values\": 8,\n        \"samples\": [\n          11546.628547153987,\n          10532.7002,\n          2747.0\n        ],\n        \"semantic_type\": \"\",\n        \"description\": \"\"\n      }\n    },\n    {\n      \"column\": \"Close\",\n      \"properties\": {\n        \"dtype\": \"number\",\n        \"std\": 6555.3212229174,\n        \"min\": 2747.0,\n        \"max\": 22493.55078,\n        \"num_unique_values\": 8,\n        \"samples\": [\n          11612.470027665453,\n          10584.7002,\n          2747.0\n        ],\n        \"semantic_type\": \"\",\n        \"description\": \"\"\n      }\n    },\n    {\n      \"column\": \"Adj Close\",\n      \"properties\": {\n        \"dtype\": \"number\",\n        \"std\": 6555.3212229174,\n        \"min\": 2747.0,\n        \"max\": 22493.55078,\n        \"num_unique_values\": 8,\n        \"samples\": [\n          11612.470027665453,\n          10584.7002,\n          2747.0\n        ],\n        \"semantic_type\": \"\",\n        \"description\": \"\"\n      }\n    },\n    {\n      \"column\": \"Volume\",\n      \"properties\": {\n        \"dtype\": \"number\",\n        \"std\": 590785.5236510463,\n        \"min\": 0.0,\n        \"max\": 1811000.0,\n        \"num_unique_values\": 8,\n        \"samples\": [\n          295915.28940662544,\n          233800.0,\n          2747.0\n        ],\n        \"semantic_type\": \"\",\n        \"description\": \"\"\n      }\n    }\n  ]\n}",
       "type": "dataframe"
      },
      "text/html": [
       "\n",
       "  <div id=\"df-dfaf7aee-6b0c-4cf8-a260-2a0a8472e362\" class=\"colab-df-container\">\n",
       "    <div>\n",
       "<style scoped>\n",
       "    .dataframe tbody tr th:only-of-type {\n",
       "        vertical-align: middle;\n",
       "    }\n",
       "\n",
       "    .dataframe tbody tr th {\n",
       "        vertical-align: top;\n",
       "    }\n",
       "\n",
       "    .dataframe thead th {\n",
       "        text-align: right;\n",
       "    }\n",
       "</style>\n",
       "<table border=\"1\" class=\"dataframe\">\n",
       "  <thead>\n",
       "    <tr style=\"text-align: right;\">\n",
       "      <th></th>\n",
       "      <th>Date.1</th>\n",
       "      <th>Date.2</th>\n",
       "      <th>Low</th>\n",
       "      <th>Close</th>\n",
       "      <th>Adj Close</th>\n",
       "      <th>Volume</th>\n",
       "    </tr>\n",
       "  </thead>\n",
       "  <tbody>\n",
       "    <tr>\n",
       "      <th>count</th>\n",
       "      <td>2747.000000</td>\n",
       "      <td>2747.000000</td>\n",
       "      <td>2747.000000</td>\n",
       "      <td>2747.000000</td>\n",
       "      <td>2747.000000</td>\n",
       "      <td>2.747000e+03</td>\n",
       "    </tr>\n",
       "    <tr>\n",
       "      <th>mean</th>\n",
       "      <td>11620.584749</td>\n",
       "      <td>11675.119677</td>\n",
       "      <td>11546.628547</td>\n",
       "      <td>11612.470028</td>\n",
       "      <td>11612.470028</td>\n",
       "      <td>2.959153e+05</td>\n",
       "    </tr>\n",
       "    <tr>\n",
       "      <th>std</th>\n",
       "      <td>4386.267802</td>\n",
       "      <td>4401.376556</td>\n",
       "      <td>4364.827173</td>\n",
       "      <td>4385.116764</td>\n",
       "      <td>4385.116764</td>\n",
       "      <td>1.928774e+05</td>\n",
       "    </tr>\n",
       "    <tr>\n",
       "      <th>min</th>\n",
       "      <td>5233.450195</td>\n",
       "      <td>5317.700195</td>\n",
       "      <td>5118.850098</td>\n",
       "      <td>5285.000000</td>\n",
       "      <td>5285.000000</td>\n",
       "      <td>0.000000e+00</td>\n",
       "    </tr>\n",
       "    <tr>\n",
       "      <th>25%</th>\n",
       "      <td>8214.175293</td>\n",
       "      <td>8250.799805</td>\n",
       "      <td>8154.600098</td>\n",
       "      <td>8216.375000</td>\n",
       "      <td>8216.375000</td>\n",
       "      <td>1.690000e+05</td>\n",
       "    </tr>\n",
       "    <tr>\n",
       "      <th>50%</th>\n",
       "      <td>10596.200200</td>\n",
       "      <td>10631.650390</td>\n",
       "      <td>10532.700200</td>\n",
       "      <td>10584.700200</td>\n",
       "      <td>10584.700200</td>\n",
       "      <td>2.338000e+05</td>\n",
       "    </tr>\n",
       "    <tr>\n",
       "      <th>75%</th>\n",
       "      <td>15696.899905</td>\n",
       "      <td>15753.399905</td>\n",
       "      <td>15592.524905</td>\n",
       "      <td>15688.375005</td>\n",
       "      <td>15688.375005</td>\n",
       "      <td>3.522500e+05</td>\n",
       "    </tr>\n",
       "    <tr>\n",
       "      <th>max</th>\n",
       "      <td>22517.500000</td>\n",
       "      <td>22526.599610</td>\n",
       "      <td>22430.000000</td>\n",
       "      <td>22493.550780</td>\n",
       "      <td>22493.550780</td>\n",
       "      <td>1.811000e+06</td>\n",
       "    </tr>\n",
       "  </tbody>\n",
       "</table>\n",
       "</div>\n",
       "    <div class=\"colab-df-buttons\">\n",
       "\n",
       "  <div class=\"colab-df-container\">\n",
       "    <button class=\"colab-df-convert\" onclick=\"convertToInteractive('df-dfaf7aee-6b0c-4cf8-a260-2a0a8472e362')\"\n",
       "            title=\"Convert this dataframe to an interactive table.\"\n",
       "            style=\"display:none;\">\n",
       "\n",
       "  <svg xmlns=\"http://www.w3.org/2000/svg\" height=\"24px\" viewBox=\"0 -960 960 960\">\n",
       "    <path d=\"M120-120v-720h720v720H120Zm60-500h600v-160H180v160Zm220 220h160v-160H400v160Zm0 220h160v-160H400v160ZM180-400h160v-160H180v160Zm440 0h160v-160H620v160ZM180-180h160v-160H180v160Zm440 0h160v-160H620v160Z\"/>\n",
       "  </svg>\n",
       "    </button>\n",
       "\n",
       "  <style>\n",
       "    .colab-df-container {\n",
       "      display:flex;\n",
       "      gap: 12px;\n",
       "    }\n",
       "\n",
       "    .colab-df-convert {\n",
       "      background-color: #E8F0FE;\n",
       "      border: none;\n",
       "      border-radius: 50%;\n",
       "      cursor: pointer;\n",
       "      display: none;\n",
       "      fill: #1967D2;\n",
       "      height: 32px;\n",
       "      padding: 0 0 0 0;\n",
       "      width: 32px;\n",
       "    }\n",
       "\n",
       "    .colab-df-convert:hover {\n",
       "      background-color: #E2EBFA;\n",
       "      box-shadow: 0px 1px 2px rgba(60, 64, 67, 0.3), 0px 1px 3px 1px rgba(60, 64, 67, 0.15);\n",
       "      fill: #174EA6;\n",
       "    }\n",
       "\n",
       "    .colab-df-buttons div {\n",
       "      margin-bottom: 4px;\n",
       "    }\n",
       "\n",
       "    [theme=dark] .colab-df-convert {\n",
       "      background-color: #3B4455;\n",
       "      fill: #D2E3FC;\n",
       "    }\n",
       "\n",
       "    [theme=dark] .colab-df-convert:hover {\n",
       "      background-color: #434B5C;\n",
       "      box-shadow: 0px 1px 3px 1px rgba(0, 0, 0, 0.15);\n",
       "      filter: drop-shadow(0px 1px 2px rgba(0, 0, 0, 0.3));\n",
       "      fill: #FFFFFF;\n",
       "    }\n",
       "  </style>\n",
       "\n",
       "    <script>\n",
       "      const buttonEl =\n",
       "        document.querySelector('#df-dfaf7aee-6b0c-4cf8-a260-2a0a8472e362 button.colab-df-convert');\n",
       "      buttonEl.style.display =\n",
       "        google.colab.kernel.accessAllowed ? 'block' : 'none';\n",
       "\n",
       "      async function convertToInteractive(key) {\n",
       "        const element = document.querySelector('#df-dfaf7aee-6b0c-4cf8-a260-2a0a8472e362');\n",
       "        const dataTable =\n",
       "          await google.colab.kernel.invokeFunction('convertToInteractive',\n",
       "                                                    [key], {});\n",
       "        if (!dataTable) return;\n",
       "\n",
       "        const docLinkHtml = 'Like what you see? Visit the ' +\n",
       "          '<a target=\"_blank\" href=https://colab.research.google.com/notebooks/data_table.ipynb>data table notebook</a>'\n",
       "          + ' to learn more about interactive tables.';\n",
       "        element.innerHTML = '';\n",
       "        dataTable['output_type'] = 'display_data';\n",
       "        await google.colab.output.renderOutput(dataTable, element);\n",
       "        const docLink = document.createElement('div');\n",
       "        docLink.innerHTML = docLinkHtml;\n",
       "        element.appendChild(docLink);\n",
       "      }\n",
       "    </script>\n",
       "  </div>\n",
       "\n",
       "\n",
       "<div id=\"df-cd3ad4f4-cfd6-4608-bcf2-b4d3d46aa116\">\n",
       "  <button class=\"colab-df-quickchart\" onclick=\"quickchart('df-cd3ad4f4-cfd6-4608-bcf2-b4d3d46aa116')\"\n",
       "            title=\"Suggest charts\"\n",
       "            style=\"display:none;\">\n",
       "\n",
       "<svg xmlns=\"http://www.w3.org/2000/svg\" height=\"24px\"viewBox=\"0 0 24 24\"\n",
       "     width=\"24px\">\n",
       "    <g>\n",
       "        <path d=\"M19 3H5c-1.1 0-2 .9-2 2v14c0 1.1.9 2 2 2h14c1.1 0 2-.9 2-2V5c0-1.1-.9-2-2-2zM9 17H7v-7h2v7zm4 0h-2V7h2v10zm4 0h-2v-4h2v4z\"/>\n",
       "    </g>\n",
       "</svg>\n",
       "  </button>\n",
       "\n",
       "<style>\n",
       "  .colab-df-quickchart {\n",
       "      --bg-color: #E8F0FE;\n",
       "      --fill-color: #1967D2;\n",
       "      --hover-bg-color: #E2EBFA;\n",
       "      --hover-fill-color: #174EA6;\n",
       "      --disabled-fill-color: #AAA;\n",
       "      --disabled-bg-color: #DDD;\n",
       "  }\n",
       "\n",
       "  [theme=dark] .colab-df-quickchart {\n",
       "      --bg-color: #3B4455;\n",
       "      --fill-color: #D2E3FC;\n",
       "      --hover-bg-color: #434B5C;\n",
       "      --hover-fill-color: #FFFFFF;\n",
       "      --disabled-bg-color: #3B4455;\n",
       "      --disabled-fill-color: #666;\n",
       "  }\n",
       "\n",
       "  .colab-df-quickchart {\n",
       "    background-color: var(--bg-color);\n",
       "    border: none;\n",
       "    border-radius: 50%;\n",
       "    cursor: pointer;\n",
       "    display: none;\n",
       "    fill: var(--fill-color);\n",
       "    height: 32px;\n",
       "    padding: 0;\n",
       "    width: 32px;\n",
       "  }\n",
       "\n",
       "  .colab-df-quickchart:hover {\n",
       "    background-color: var(--hover-bg-color);\n",
       "    box-shadow: 0 1px 2px rgba(60, 64, 67, 0.3), 0 1px 3px 1px rgba(60, 64, 67, 0.15);\n",
       "    fill: var(--button-hover-fill-color);\n",
       "  }\n",
       "\n",
       "  .colab-df-quickchart-complete:disabled,\n",
       "  .colab-df-quickchart-complete:disabled:hover {\n",
       "    background-color: var(--disabled-bg-color);\n",
       "    fill: var(--disabled-fill-color);\n",
       "    box-shadow: none;\n",
       "  }\n",
       "\n",
       "  .colab-df-spinner {\n",
       "    border: 2px solid var(--fill-color);\n",
       "    border-color: transparent;\n",
       "    border-bottom-color: var(--fill-color);\n",
       "    animation:\n",
       "      spin 1s steps(1) infinite;\n",
       "  }\n",
       "\n",
       "  @keyframes spin {\n",
       "    0% {\n",
       "      border-color: transparent;\n",
       "      border-bottom-color: var(--fill-color);\n",
       "      border-left-color: var(--fill-color);\n",
       "    }\n",
       "    20% {\n",
       "      border-color: transparent;\n",
       "      border-left-color: var(--fill-color);\n",
       "      border-top-color: var(--fill-color);\n",
       "    }\n",
       "    30% {\n",
       "      border-color: transparent;\n",
       "      border-left-color: var(--fill-color);\n",
       "      border-top-color: var(--fill-color);\n",
       "      border-right-color: var(--fill-color);\n",
       "    }\n",
       "    40% {\n",
       "      border-color: transparent;\n",
       "      border-right-color: var(--fill-color);\n",
       "      border-top-color: var(--fill-color);\n",
       "    }\n",
       "    60% {\n",
       "      border-color: transparent;\n",
       "      border-right-color: var(--fill-color);\n",
       "    }\n",
       "    80% {\n",
       "      border-color: transparent;\n",
       "      border-right-color: var(--fill-color);\n",
       "      border-bottom-color: var(--fill-color);\n",
       "    }\n",
       "    90% {\n",
       "      border-color: transparent;\n",
       "      border-bottom-color: var(--fill-color);\n",
       "    }\n",
       "  }\n",
       "</style>\n",
       "\n",
       "  <script>\n",
       "    async function quickchart(key) {\n",
       "      const quickchartButtonEl =\n",
       "        document.querySelector('#' + key + ' button');\n",
       "      quickchartButtonEl.disabled = true;  // To prevent multiple clicks.\n",
       "      quickchartButtonEl.classList.add('colab-df-spinner');\n",
       "      try {\n",
       "        const charts = await google.colab.kernel.invokeFunction(\n",
       "            'suggestCharts', [key], {});\n",
       "      } catch (error) {\n",
       "        console.error('Error during call to suggestCharts:', error);\n",
       "      }\n",
       "      quickchartButtonEl.classList.remove('colab-df-spinner');\n",
       "      quickchartButtonEl.classList.add('colab-df-quickchart-complete');\n",
       "    }\n",
       "    (() => {\n",
       "      let quickchartButtonEl =\n",
       "        document.querySelector('#df-cd3ad4f4-cfd6-4608-bcf2-b4d3d46aa116 button');\n",
       "      quickchartButtonEl.style.display =\n",
       "        google.colab.kernel.accessAllowed ? 'block' : 'none';\n",
       "    })();\n",
       "  </script>\n",
       "</div>\n",
       "\n",
       "    </div>\n",
       "  </div>\n"
      ],
      "text/plain": [
       "             Date.1        Date.2           Low         Close     Adj Close  \\\n",
       "count   2747.000000   2747.000000   2747.000000   2747.000000   2747.000000   \n",
       "mean   11620.584749  11675.119677  11546.628547  11612.470028  11612.470028   \n",
       "std     4386.267802   4401.376556   4364.827173   4385.116764   4385.116764   \n",
       "min     5233.450195   5317.700195   5118.850098   5285.000000   5285.000000   \n",
       "25%     8214.175293   8250.799805   8154.600098   8216.375000   8216.375000   \n",
       "50%    10596.200200  10631.650390  10532.700200  10584.700200  10584.700200   \n",
       "75%    15696.899905  15753.399905  15592.524905  15688.375005  15688.375005   \n",
       "max    22517.500000  22526.599610  22430.000000  22493.550780  22493.550780   \n",
       "\n",
       "             Volume  \n",
       "count  2.747000e+03  \n",
       "mean   2.959153e+05  \n",
       "std    1.928774e+05  \n",
       "min    0.000000e+00  \n",
       "25%    1.690000e+05  \n",
       "50%    2.338000e+05  \n",
       "75%    3.522500e+05  \n",
       "max    1.811000e+06  "
      ]
     },
     "execution_count": 11,
     "metadata": {},
     "output_type": "execute_result"
    }
   ],
   "source": [
    "data.describe()"
   ]
  },
  {
   "cell_type": "code",
   "execution_count": 14,
   "metadata": {
    "executionInfo": {
     "elapsed": 13,
     "status": "ok",
     "timestamp": 1711989667532,
     "user": {
      "displayName": "Yudhisthir Dadhich",
      "userId": "12025015466868442242"
     },
     "user_tz": -330
    },
    "id": "X6_Ez-PghPIi"
   },
   "outputs": [],
   "source": [
    "mean_volume = data.loc[data['Volume'] != 0, 'Volume'].mean()\n",
    "\n",
    "# Replace 0 values with the calculated mean\n",
    "data.loc[data['Volume'] == 0, 'Volume'] = mean_volume"
   ]
  },
  {
   "cell_type": "code",
   "execution_count": 15,
   "metadata": {
    "colab": {
     "base_uri": "https://localhost:8080/",
     "height": 300
    },
    "executionInfo": {
     "elapsed": 16,
     "status": "ok",
     "timestamp": 1711989686783,
     "user": {
      "displayName": "Yudhisthir Dadhich",
      "userId": "12025015466868442242"
     },
     "user_tz": -330
    },
    "id": "6sjNDWuAh72V",
    "outputId": "95cd1934-b645-4ffe-91b1-8ec1047dd960"
   },
   "outputs": [
    {
     "data": {
      "application/vnd.google.colaboratory.intrinsic+json": {
       "summary": "{\n  \"name\": \"data\",\n  \"rows\": 8,\n  \"fields\": [\n    {\n      \"column\": \"Date.1\",\n      \"properties\": {\n        \"dtype\": \"number\",\n        \"std\": 6568.5979340140275,\n        \"min\": 2747.0,\n        \"max\": 22517.5,\n        \"num_unique_values\": 8,\n        \"samples\": [\n          11620.58474939352,\n          10596.2002,\n          2747.0\n        ],\n        \"semantic_type\": \"\",\n        \"description\": \"\"\n      }\n    },\n    {\n      \"column\": \"Date.2\",\n      \"properties\": {\n        \"dtype\": \"number\",\n        \"std\": 6567.714388227234,\n        \"min\": 2747.0,\n        \"max\": 22526.59961,\n        \"num_unique_values\": 8,\n        \"samples\": [\n          11675.119677250092,\n          10631.65039,\n          2747.0\n        ],\n        \"semantic_type\": \"\",\n        \"description\": \"\"\n      }\n    },\n    {\n      \"column\": \"Low\",\n      \"properties\": {\n        \"dtype\": \"number\",\n        \"std\": 6546.7517470396915,\n        \"min\": 2747.0,\n        \"max\": 22430.0,\n        \"num_unique_values\": 8,\n        \"samples\": [\n          11546.628547153987,\n          10532.7002,\n          2747.0\n        ],\n        \"semantic_type\": \"\",\n        \"description\": \"\"\n      }\n    },\n    {\n      \"column\": \"Close\",\n      \"properties\": {\n        \"dtype\": \"number\",\n        \"std\": 6555.3212229174,\n        \"min\": 2747.0,\n        \"max\": 22493.55078,\n        \"num_unique_values\": 8,\n        \"samples\": [\n          11612.470027665453,\n          10584.7002,\n          2747.0\n        ],\n        \"semantic_type\": \"\",\n        \"description\": \"\"\n      }\n    },\n    {\n      \"column\": \"Adj Close\",\n      \"properties\": {\n        \"dtype\": \"number\",\n        \"std\": 6555.3212229174,\n        \"min\": 2747.0,\n        \"max\": 22493.55078,\n        \"num_unique_values\": 8,\n        \"samples\": [\n          11612.470027665453,\n          10584.7002,\n          2747.0\n        ],\n        \"semantic_type\": \"\",\n        \"description\": \"\"\n      }\n    },\n    {\n      \"column\": \"Volume\",\n      \"properties\": {\n        \"dtype\": \"number\",\n        \"std\": 590569.3783516829,\n        \"min\": 100.0,\n        \"max\": 1811000.0,\n        \"num_unique_values\": 8,\n        \"samples\": [\n          298523.43004039663,\n          237100.0,\n          2747.0\n        ],\n        \"semantic_type\": \"\",\n        \"description\": \"\"\n      }\n    }\n  ]\n}",
       "type": "dataframe"
      },
      "text/html": [
       "\n",
       "  <div id=\"df-3d1a6a66-10f4-4b80-a44c-2993929458b1\" class=\"colab-df-container\">\n",
       "    <div>\n",
       "<style scoped>\n",
       "    .dataframe tbody tr th:only-of-type {\n",
       "        vertical-align: middle;\n",
       "    }\n",
       "\n",
       "    .dataframe tbody tr th {\n",
       "        vertical-align: top;\n",
       "    }\n",
       "\n",
       "    .dataframe thead th {\n",
       "        text-align: right;\n",
       "    }\n",
       "</style>\n",
       "<table border=\"1\" class=\"dataframe\">\n",
       "  <thead>\n",
       "    <tr style=\"text-align: right;\">\n",
       "      <th></th>\n",
       "      <th>Date.1</th>\n",
       "      <th>Date.2</th>\n",
       "      <th>Low</th>\n",
       "      <th>Close</th>\n",
       "      <th>Adj Close</th>\n",
       "      <th>Volume</th>\n",
       "    </tr>\n",
       "  </thead>\n",
       "  <tbody>\n",
       "    <tr>\n",
       "      <th>count</th>\n",
       "      <td>2747.000000</td>\n",
       "      <td>2747.000000</td>\n",
       "      <td>2747.000000</td>\n",
       "      <td>2747.000000</td>\n",
       "      <td>2747.000000</td>\n",
       "      <td>2.747000e+03</td>\n",
       "    </tr>\n",
       "    <tr>\n",
       "      <th>mean</th>\n",
       "      <td>11620.584749</td>\n",
       "      <td>11675.119677</td>\n",
       "      <td>11546.628547</td>\n",
       "      <td>11612.470028</td>\n",
       "      <td>11612.470028</td>\n",
       "      <td>2.985234e+05</td>\n",
       "    </tr>\n",
       "    <tr>\n",
       "      <th>std</th>\n",
       "      <td>4386.267802</td>\n",
       "      <td>4401.376556</td>\n",
       "      <td>4364.827173</td>\n",
       "      <td>4385.116764</td>\n",
       "      <td>4385.116764</td>\n",
       "      <td>1.908655e+05</td>\n",
       "    </tr>\n",
       "    <tr>\n",
       "      <th>min</th>\n",
       "      <td>5233.450195</td>\n",
       "      <td>5317.700195</td>\n",
       "      <td>5118.850098</td>\n",
       "      <td>5285.000000</td>\n",
       "      <td>5285.000000</td>\n",
       "      <td>1.000000e+02</td>\n",
       "    </tr>\n",
       "    <tr>\n",
       "      <th>25%</th>\n",
       "      <td>8214.175293</td>\n",
       "      <td>8250.799805</td>\n",
       "      <td>8154.600098</td>\n",
       "      <td>8216.375000</td>\n",
       "      <td>8216.375000</td>\n",
       "      <td>1.715000e+05</td>\n",
       "    </tr>\n",
       "    <tr>\n",
       "      <th>50%</th>\n",
       "      <td>10596.200200</td>\n",
       "      <td>10631.650390</td>\n",
       "      <td>10532.700200</td>\n",
       "      <td>10584.700200</td>\n",
       "      <td>10584.700200</td>\n",
       "      <td>2.371000e+05</td>\n",
       "    </tr>\n",
       "    <tr>\n",
       "      <th>75%</th>\n",
       "      <td>15696.899905</td>\n",
       "      <td>15753.399905</td>\n",
       "      <td>15592.524905</td>\n",
       "      <td>15688.375005</td>\n",
       "      <td>15688.375005</td>\n",
       "      <td>3.522500e+05</td>\n",
       "    </tr>\n",
       "    <tr>\n",
       "      <th>max</th>\n",
       "      <td>22517.500000</td>\n",
       "      <td>22526.599610</td>\n",
       "      <td>22430.000000</td>\n",
       "      <td>22493.550780</td>\n",
       "      <td>22493.550780</td>\n",
       "      <td>1.811000e+06</td>\n",
       "    </tr>\n",
       "  </tbody>\n",
       "</table>\n",
       "</div>\n",
       "    <div class=\"colab-df-buttons\">\n",
       "\n",
       "  <div class=\"colab-df-container\">\n",
       "    <button class=\"colab-df-convert\" onclick=\"convertToInteractive('df-3d1a6a66-10f4-4b80-a44c-2993929458b1')\"\n",
       "            title=\"Convert this dataframe to an interactive table.\"\n",
       "            style=\"display:none;\">\n",
       "\n",
       "  <svg xmlns=\"http://www.w3.org/2000/svg\" height=\"24px\" viewBox=\"0 -960 960 960\">\n",
       "    <path d=\"M120-120v-720h720v720H120Zm60-500h600v-160H180v160Zm220 220h160v-160H400v160Zm0 220h160v-160H400v160ZM180-400h160v-160H180v160Zm440 0h160v-160H620v160ZM180-180h160v-160H180v160Zm440 0h160v-160H620v160Z\"/>\n",
       "  </svg>\n",
       "    </button>\n",
       "\n",
       "  <style>\n",
       "    .colab-df-container {\n",
       "      display:flex;\n",
       "      gap: 12px;\n",
       "    }\n",
       "\n",
       "    .colab-df-convert {\n",
       "      background-color: #E8F0FE;\n",
       "      border: none;\n",
       "      border-radius: 50%;\n",
       "      cursor: pointer;\n",
       "      display: none;\n",
       "      fill: #1967D2;\n",
       "      height: 32px;\n",
       "      padding: 0 0 0 0;\n",
       "      width: 32px;\n",
       "    }\n",
       "\n",
       "    .colab-df-convert:hover {\n",
       "      background-color: #E2EBFA;\n",
       "      box-shadow: 0px 1px 2px rgba(60, 64, 67, 0.3), 0px 1px 3px 1px rgba(60, 64, 67, 0.15);\n",
       "      fill: #174EA6;\n",
       "    }\n",
       "\n",
       "    .colab-df-buttons div {\n",
       "      margin-bottom: 4px;\n",
       "    }\n",
       "\n",
       "    [theme=dark] .colab-df-convert {\n",
       "      background-color: #3B4455;\n",
       "      fill: #D2E3FC;\n",
       "    }\n",
       "\n",
       "    [theme=dark] .colab-df-convert:hover {\n",
       "      background-color: #434B5C;\n",
       "      box-shadow: 0px 1px 3px 1px rgba(0, 0, 0, 0.15);\n",
       "      filter: drop-shadow(0px 1px 2px rgba(0, 0, 0, 0.3));\n",
       "      fill: #FFFFFF;\n",
       "    }\n",
       "  </style>\n",
       "\n",
       "    <script>\n",
       "      const buttonEl =\n",
       "        document.querySelector('#df-3d1a6a66-10f4-4b80-a44c-2993929458b1 button.colab-df-convert');\n",
       "      buttonEl.style.display =\n",
       "        google.colab.kernel.accessAllowed ? 'block' : 'none';\n",
       "\n",
       "      async function convertToInteractive(key) {\n",
       "        const element = document.querySelector('#df-3d1a6a66-10f4-4b80-a44c-2993929458b1');\n",
       "        const dataTable =\n",
       "          await google.colab.kernel.invokeFunction('convertToInteractive',\n",
       "                                                    [key], {});\n",
       "        if (!dataTable) return;\n",
       "\n",
       "        const docLinkHtml = 'Like what you see? Visit the ' +\n",
       "          '<a target=\"_blank\" href=https://colab.research.google.com/notebooks/data_table.ipynb>data table notebook</a>'\n",
       "          + ' to learn more about interactive tables.';\n",
       "        element.innerHTML = '';\n",
       "        dataTable['output_type'] = 'display_data';\n",
       "        await google.colab.output.renderOutput(dataTable, element);\n",
       "        const docLink = document.createElement('div');\n",
       "        docLink.innerHTML = docLinkHtml;\n",
       "        element.appendChild(docLink);\n",
       "      }\n",
       "    </script>\n",
       "  </div>\n",
       "\n",
       "\n",
       "<div id=\"df-56d2df6d-a458-4a59-b7ff-9562802c0f50\">\n",
       "  <button class=\"colab-df-quickchart\" onclick=\"quickchart('df-56d2df6d-a458-4a59-b7ff-9562802c0f50')\"\n",
       "            title=\"Suggest charts\"\n",
       "            style=\"display:none;\">\n",
       "\n",
       "<svg xmlns=\"http://www.w3.org/2000/svg\" height=\"24px\"viewBox=\"0 0 24 24\"\n",
       "     width=\"24px\">\n",
       "    <g>\n",
       "        <path d=\"M19 3H5c-1.1 0-2 .9-2 2v14c0 1.1.9 2 2 2h14c1.1 0 2-.9 2-2V5c0-1.1-.9-2-2-2zM9 17H7v-7h2v7zm4 0h-2V7h2v10zm4 0h-2v-4h2v4z\"/>\n",
       "    </g>\n",
       "</svg>\n",
       "  </button>\n",
       "\n",
       "<style>\n",
       "  .colab-df-quickchart {\n",
       "      --bg-color: #E8F0FE;\n",
       "      --fill-color: #1967D2;\n",
       "      --hover-bg-color: #E2EBFA;\n",
       "      --hover-fill-color: #174EA6;\n",
       "      --disabled-fill-color: #AAA;\n",
       "      --disabled-bg-color: #DDD;\n",
       "  }\n",
       "\n",
       "  [theme=dark] .colab-df-quickchart {\n",
       "      --bg-color: #3B4455;\n",
       "      --fill-color: #D2E3FC;\n",
       "      --hover-bg-color: #434B5C;\n",
       "      --hover-fill-color: #FFFFFF;\n",
       "      --disabled-bg-color: #3B4455;\n",
       "      --disabled-fill-color: #666;\n",
       "  }\n",
       "\n",
       "  .colab-df-quickchart {\n",
       "    background-color: var(--bg-color);\n",
       "    border: none;\n",
       "    border-radius: 50%;\n",
       "    cursor: pointer;\n",
       "    display: none;\n",
       "    fill: var(--fill-color);\n",
       "    height: 32px;\n",
       "    padding: 0;\n",
       "    width: 32px;\n",
       "  }\n",
       "\n",
       "  .colab-df-quickchart:hover {\n",
       "    background-color: var(--hover-bg-color);\n",
       "    box-shadow: 0 1px 2px rgba(60, 64, 67, 0.3), 0 1px 3px 1px rgba(60, 64, 67, 0.15);\n",
       "    fill: var(--button-hover-fill-color);\n",
       "  }\n",
       "\n",
       "  .colab-df-quickchart-complete:disabled,\n",
       "  .colab-df-quickchart-complete:disabled:hover {\n",
       "    background-color: var(--disabled-bg-color);\n",
       "    fill: var(--disabled-fill-color);\n",
       "    box-shadow: none;\n",
       "  }\n",
       "\n",
       "  .colab-df-spinner {\n",
       "    border: 2px solid var(--fill-color);\n",
       "    border-color: transparent;\n",
       "    border-bottom-color: var(--fill-color);\n",
       "    animation:\n",
       "      spin 1s steps(1) infinite;\n",
       "  }\n",
       "\n",
       "  @keyframes spin {\n",
       "    0% {\n",
       "      border-color: transparent;\n",
       "      border-bottom-color: var(--fill-color);\n",
       "      border-left-color: var(--fill-color);\n",
       "    }\n",
       "    20% {\n",
       "      border-color: transparent;\n",
       "      border-left-color: var(--fill-color);\n",
       "      border-top-color: var(--fill-color);\n",
       "    }\n",
       "    30% {\n",
       "      border-color: transparent;\n",
       "      border-left-color: var(--fill-color);\n",
       "      border-top-color: var(--fill-color);\n",
       "      border-right-color: var(--fill-color);\n",
       "    }\n",
       "    40% {\n",
       "      border-color: transparent;\n",
       "      border-right-color: var(--fill-color);\n",
       "      border-top-color: var(--fill-color);\n",
       "    }\n",
       "    60% {\n",
       "      border-color: transparent;\n",
       "      border-right-color: var(--fill-color);\n",
       "    }\n",
       "    80% {\n",
       "      border-color: transparent;\n",
       "      border-right-color: var(--fill-color);\n",
       "      border-bottom-color: var(--fill-color);\n",
       "    }\n",
       "    90% {\n",
       "      border-color: transparent;\n",
       "      border-bottom-color: var(--fill-color);\n",
       "    }\n",
       "  }\n",
       "</style>\n",
       "\n",
       "  <script>\n",
       "    async function quickchart(key) {\n",
       "      const quickchartButtonEl =\n",
       "        document.querySelector('#' + key + ' button');\n",
       "      quickchartButtonEl.disabled = true;  // To prevent multiple clicks.\n",
       "      quickchartButtonEl.classList.add('colab-df-spinner');\n",
       "      try {\n",
       "        const charts = await google.colab.kernel.invokeFunction(\n",
       "            'suggestCharts', [key], {});\n",
       "      } catch (error) {\n",
       "        console.error('Error during call to suggestCharts:', error);\n",
       "      }\n",
       "      quickchartButtonEl.classList.remove('colab-df-spinner');\n",
       "      quickchartButtonEl.classList.add('colab-df-quickchart-complete');\n",
       "    }\n",
       "    (() => {\n",
       "      let quickchartButtonEl =\n",
       "        document.querySelector('#df-56d2df6d-a458-4a59-b7ff-9562802c0f50 button');\n",
       "      quickchartButtonEl.style.display =\n",
       "        google.colab.kernel.accessAllowed ? 'block' : 'none';\n",
       "    })();\n",
       "  </script>\n",
       "</div>\n",
       "\n",
       "    </div>\n",
       "  </div>\n"
      ],
      "text/plain": [
       "             Date.1        Date.2           Low         Close     Adj Close  \\\n",
       "count   2747.000000   2747.000000   2747.000000   2747.000000   2747.000000   \n",
       "mean   11620.584749  11675.119677  11546.628547  11612.470028  11612.470028   \n",
       "std     4386.267802   4401.376556   4364.827173   4385.116764   4385.116764   \n",
       "min     5233.450195   5317.700195   5118.850098   5285.000000   5285.000000   \n",
       "25%     8214.175293   8250.799805   8154.600098   8216.375000   8216.375000   \n",
       "50%    10596.200200  10631.650390  10532.700200  10584.700200  10584.700200   \n",
       "75%    15696.899905  15753.399905  15592.524905  15688.375005  15688.375005   \n",
       "max    22517.500000  22526.599610  22430.000000  22493.550780  22493.550780   \n",
       "\n",
       "             Volume  \n",
       "count  2.747000e+03  \n",
       "mean   2.985234e+05  \n",
       "std    1.908655e+05  \n",
       "min    1.000000e+02  \n",
       "25%    1.715000e+05  \n",
       "50%    2.371000e+05  \n",
       "75%    3.522500e+05  \n",
       "max    1.811000e+06  "
      ]
     },
     "execution_count": 15,
     "metadata": {},
     "output_type": "execute_result"
    }
   ],
   "source": [
    "data.describe()"
   ]
  },
  {
   "cell_type": "code",
   "execution_count": 16,
   "metadata": {
    "executionInfo": {
     "elapsed": 10,
     "status": "ok",
     "timestamp": 1711989721606,
     "user": {
      "displayName": "Yudhisthir Dadhich",
      "userId": "12025015466868442242"
     },
     "user_tz": -330
    },
    "id": "6_m_bOPTiWg-"
   },
   "outputs": [],
   "source": [
    "# Normalize data\n",
    "scaler = MinMaxScaler(feature_range=(0, 1))\n",
    "scaled_data = scaler.fit_transform(data)"
   ]
  },
  {
   "cell_type": "code",
   "execution_count": 17,
   "metadata": {
    "executionInfo": {
     "elapsed": 13,
     "status": "ok",
     "timestamp": 1711989735692,
     "user": {
      "displayName": "Yudhisthir Dadhich",
      "userId": "12025015466868442242"
     },
     "user_tz": -330
    },
    "id": "_pD003yAigN9"
   },
   "outputs": [],
   "source": [
    "# Split data into train and test sets\n",
    "train_size = int(len(scaled_data) * 0.8)\n",
    "test_size = len(scaled_data) - train_size\n",
    "train_data, test_data = scaled_data[0:train_size, :], scaled_data[train_size:len(scaled_data), :]"
   ]
  },
  {
   "cell_type": "code",
   "execution_count": 18,
   "metadata": {
    "executionInfo": {
     "elapsed": 445,
     "status": "ok",
     "timestamp": 1711989763416,
     "user": {
      "displayName": "Yudhisthir Dadhich",
      "userId": "12025015466868442242"
     },
     "user_tz": -330
    },
    "id": "JOfX0vMIijy-"
   },
   "outputs": [],
   "source": [
    "# Generate sequences \n",
    "def create_sequences(data, seq_length):\n",
    "    X, y = [], []\n",
    "    for i in range(len(data) - seq_length):\n",
    "        X.append(data[i:(i + seq_length), :])\n",
    "        y.append(data[i + seq_length, 0])\n",
    "    return np.array(X), np.array(y)\n",
    "\n",
    "seq_length = 10\n",
    "X_train, y_train = create_sequences(train_data, seq_length)\n",
    "X_test, y_test = create_sequences(test_data, seq_length)\n"
   ]
  },
  {
   "cell_type": "code",
   "execution_count": 21,
   "metadata": {
    "colab": {
     "base_uri": "https://localhost:8080/"
    },
    "executionInfo": {
     "elapsed": 10156,
     "status": "ok",
     "timestamp": 1711990184190,
     "user": {
      "displayName": "Yudhisthir Dadhich",
      "userId": "12025015466868442242"
     },
     "user_tz": -330
    },
    "id": "WaWTb650iqeW",
    "outputId": "2cb7ce0e-7ae6-4d73-ee6e-3b10e19ca688"
   },
   "outputs": [
    {
     "name": "stdout",
     "output_type": "stream",
     "text": [
      "Epoch 1/10\n",
      "11/11 - 6s - loss: 0.0135 - val_loss: 0.0036 - 6s/epoch - 540ms/step\n",
      "Epoch 2/10\n",
      "11/11 - 0s - loss: 0.0023 - val_loss: 0.0189 - 346ms/epoch - 31ms/step\n",
      "Epoch 3/10\n",
      "11/11 - 0s - loss: 8.5821e-04 - val_loss: 0.0018 - 364ms/epoch - 33ms/step\n",
      "Epoch 4/10\n",
      "11/11 - 0s - loss: 3.8892e-04 - val_loss: 0.0025 - 350ms/epoch - 32ms/step\n",
      "Epoch 5/10\n",
      "11/11 - 0s - loss: 1.9349e-04 - val_loss: 5.7890e-04 - 348ms/epoch - 32ms/step\n",
      "Epoch 6/10\n",
      "11/11 - 0s - loss: 1.6011e-04 - val_loss: 2.8319e-04 - 355ms/epoch - 32ms/step\n",
      "Epoch 7/10\n",
      "11/11 - 0s - loss: 1.4979e-04 - val_loss: 4.1580e-04 - 345ms/epoch - 31ms/step\n",
      "Epoch 8/10\n",
      "11/11 - 0s - loss: 1.4294e-04 - val_loss: 3.6699e-04 - 331ms/epoch - 30ms/step\n",
      "Epoch 9/10\n",
      "11/11 - 0s - loss: 1.4094e-04 - val_loss: 3.5033e-04 - 346ms/epoch - 31ms/step\n",
      "Epoch 10/10\n",
      "11/11 - 0s - loss: 1.4064e-04 - val_loss: 4.3439e-04 - 327ms/epoch - 30ms/step\n",
      "Total time taken for training: 9.19 seconds\n"
     ]
    }
   ],
   "source": [
    "# Build LSTM model\n",
    "model = Sequential()\n",
    "model.add(LSTM(units=50, return_sequences=True, input_shape=(X_train.shape[1], X_train.shape[2])))\n",
    "model.add(LSTM(units=50))\n",
    "model.add(Dense(units=1))\n",
    "model.compile(optimizer='adam', loss='mean_squared_error')\n",
    "\n",
    "# Define callbacks\n",
    "callbacks = [\n",
    "    keras_callbacks.EarlyStopping(monitor='val_loss', patience=10),\n",
    "    keras_callbacks.ModelCheckpoint(filepath='best_model.h5', monitor='val_loss', save_best_only=True)\n",
    "]\n",
    "\n",
    "# Train model\n",
    "start_time = time.time()\n",
    "history = model.fit(X_train, y_train, epochs=10, batch_size=200, validation_split=0.05, verbose=2, callbacks=callbacks)\n",
    "end_time = time.time()\n",
    "print(\"Total time taken for training: {:.2f} seconds\".format(end_time - start_time))\n"
   ]
  },
  {
   "cell_type": "code",
   "execution_count": 22,
   "metadata": {
    "colab": {
     "base_uri": "https://localhost:8080/"
    },
    "executionInfo": {
     "elapsed": 4935,
     "status": "ok",
     "timestamp": 1711990233071,
     "user": {
      "displayName": "Yudhisthir Dadhich",
      "userId": "12025015466868442242"
     },
     "user_tz": -330
    },
    "id": "AfpS41gfityQ",
    "outputId": "6f19ed82-aab0-443c-aa5e-72d35ad18a91"
   },
   "outputs": [
    {
     "name": "stdout",
     "output_type": "stream",
     "text": [
      "69/69 [==============================] - 3s 7ms/step\n",
      "17/17 [==============================] - 0s 5ms/step\n",
      "Train RMSE: 0.012432459009944042\n",
      "Test RMSE: 0.03380275800369183\n"
     ]
    }
   ],
   "source": [
    "# Evaluate model\n",
    "train_predict = model.predict(X_train)\n",
    "test_predict = model.predict(X_test)\n",
    "print(\"Train RMSE:\", np.sqrt(mean_squared_error(y_train, train_predict)))\n",
    "print(\"Test RMSE:\", np.sqrt(mean_squared_error(y_test, test_predict)))"
   ]
  },
  {
   "cell_type": "code",
   "execution_count": 23,
   "metadata": {
    "colab": {
     "base_uri": "https://localhost:8080/"
    },
    "executionInfo": {
     "elapsed": 751,
     "status": "ok",
     "timestamp": 1711990296328,
     "user": {
      "displayName": "Yudhisthir Dadhich",
      "userId": "12025015466868442242"
     },
     "user_tz": -330
    },
    "id": "IenC94pgkb2z",
    "outputId": "522e3125-3b14-40d0-bb51-7a86c284d7e8"
   },
   "outputs": [
    {
     "name": "stdout",
     "output_type": "stream",
     "text": [
      "17/17 [==============================] - 0s 5ms/step\n"
     ]
    }
   ],
   "source": [
    "predictions = model.predict(X_test)"
   ]
  },
  {
   "cell_type": "code",
   "execution_count": 25,
   "metadata": {
    "colab": {
     "base_uri": "https://localhost:8080/",
     "height": 472
    },
    "executionInfo": {
     "elapsed": 3211,
     "status": "ok",
     "timestamp": 1711990397662,
     "user": {
      "displayName": "Yudhisthir Dadhich",
      "userId": "12025015466868442242"
     },
     "user_tz": -330
    },
    "id": "Igq3Zykgkshc",
    "outputId": "5abb5caa-ae25-4077-cafc-d739e6e487ac"
   },
   "outputs": [
    {
     "data": {
      "image/png": "[encoded data removed]",
      "text/plain": [
       "<Figure size 640x480 with 1 Axes>"
      ]
     },
     "metadata": {},
     "output_type": "display_data"
    }
   ],
   "source": [
    "import matplotlib.pyplot as plt\n",
    "\n",
    "plt.plot(history.history['loss'], label='train')\n",
    "plt.plot(history.history['val_loss'], label='validation')\n",
    "plt.xlabel('Epoch')\n",
    "plt.ylabel('Loss')\n",
    "plt.title('Training and Validation Loss')\n",
    "plt.legend()\n",
    "plt.show()"
   ]
  },
  {
   "cell_type": "code",
   "execution_count": 28,
   "metadata": {
    "colab": {
     "base_uri": "https://localhost:8080/",
     "height": 599
    },
    "executionInfo": {
     "elapsed": 2106,
     "status": "ok",
     "timestamp": 1711990493222,
     "user": {
      "displayName": "Yudhisthir Dadhich",
      "userId": "12025015466868442242"
     },
     "user_tz": -330
    },
    "id": "uEPKqMOvk9dX",
    "outputId": "c45a87d6-78b6-4d1d-f9f0-9916e6ed9643"
   },
   "outputs": [
    {
     "name": "stdout",
     "output_type": "stream",
     "text": [
      "69/69 [==============================] - 0s 4ms/step\n",
      "17/17 [==============================] - 0s 4ms/step\n"
     ]
    },
    {
     "data": {
      "image/png": "[encoded data removed]",
      "text/plain": [
       "<Figure size 1000x600 with 1 Axes>"
      ]
     },
     "metadata": {},
     "output_type": "display_data"
    }
   ],
   "source": [
    "train_predictions = model.predict(X_train)\n",
    "test_predictions = model.predict(X_test)\n",
    "\n",
    "plt.figure(figsize=(10, 6))\n",
    "plt.plot(y_train, label='Actual (Train)')\n",
    "plt.plot(train_predictions, label='Predicted (Train)')\n",
    "plt.xlabel('Days')\n",
    "plt.ylabel('Value')\n",
    "plt.title('Actual vs. Predicted (Training Set)')\n",
    "plt.legend()\n",
    "plt.show()"
   ]
  },
  {
   "cell_type": "code",
   "execution_count": 29,
   "metadata": {
    "colab": {
     "base_uri": "https://localhost:8080/",
     "height": 564
    },
    "executionInfo": {
     "elapsed": 2167,
     "status": "ok",
     "timestamp": 1711990505001,
     "user": {
      "displayName": "Yudhisthir Dadhich",
      "userId": "12025015466868442242"
     },
     "user_tz": -330
    },
    "id": "j2mGtsaslLRX",
    "outputId": "5b6995ff-8058-4653-d8d0-946608c25524"
   },
   "outputs": [
    {
     "data": {
      "image/png": "[encoded data removed]",
      "text/plain": [
       "<Figure size 1000x600 with 1 Axes>"
      ]
     },
     "metadata": {},
     "output_type": "display_data"
    }
   ],
   "source": [
    "plt.figure(figsize=(10, 6))\n",
    "plt.plot(y_test, label='Actual (Test)')\n",
    "plt.plot(test_predictions, label='Predicted (Test)')\n",
    "plt.xlabel('Days')\n",
    "plt.ylabel('Value')\n",
    "plt.title('Actual vs. Predicted (Test Set)')\n",
    "plt.legend()\n",
    "plt.show()"
   ]
  },
  {
   "cell_type": "code",
   "execution_count": 30,
   "metadata": {
    "colab": {
     "base_uri": "https://localhost:8080/"
    },
    "executionInfo": {
     "elapsed": 691,
     "status": "ok",
     "timestamp": 1711990522573,
     "user": {
      "displayName": "Yudhisthir Dadhich",
      "userId": "12025015466868442242"
     },
     "user_tz": -330
    },
    "id": "52i7a6MtlSkr",
    "outputId": "314ae319-4bb1-4a1d-e245-cf2390af28b1"
   },
   "outputs": [
    {
     "name": "stdout",
     "output_type": "stream",
     "text": [
      "Train RMSE: 0.012432459009944042\n",
      "Test RMSE: 0.03380275800369183\n"
     ]
    }
   ],
   "source": [
    "from sklearn.metrics import mean_absolute_error, mean_squared_error\n",
    "\n",
    "train_rmse = np.sqrt(mean_squared_error(y_train, train_predictions))\n",
    "test_rmse = np.sqrt(mean_squared_error(y_test, test_predictions))\n",
    "\n",
    "print(\"Train RMSE:\", train_rmse)\n",
    "print(\"Test RMSE:\", test_rmse)\n"
   ]
  },
  {
   "cell_type": "code",
   "execution_count": null,
   "metadata": {
    "colab": {
     "base_uri": "https://localhost:8080/",
     "height": 428
    },
    "executionInfo": {
     "elapsed": 1561,
     "status": "error",
     "timestamp": 1711992770992,
     "user": {
      "displayName": "Yudhisthir Dadhich",
      "userId": "12025015466868442242"
     },
     "user_tz": -330
    },
    "id": "d22ZohhBljqs",
    "outputId": "c22aa982-1352-4f3d-a689-a0e4e749ef8a"
   },
   "outputs": [],
   "source": []
  },
  {
   "cell_type": "code",
   "execution_count": null,
   "metadata": {
    "id": "mV0RXbJElnDi"
   },
   "outputs": [],
   "source": []
  }
 ],
 "metadata": {
  "colab": {
   "authorship_tag": "ABX9TyN7neGLc17pLXgtJPJoUWZ6",
   "provenance": [
    {
     "file_id": "1tvwxr3Z8Jvg2IizoCEot5-3d1eAobKvE",
     "timestamp": 1711992866746
    }
   ]
  },
  "kernelspec": {
   "display_name": "Python 3 (ipykernel)",
   "language": "python",
   "name": "python3"
  },
  "language_info": {
   "codemirror_mode": {
    "name": "ipython",
    "version": 3
   },
   "file_extension": ".py",
   "mimetype": "text/x-python",
   "name": "python",
   "nbconvert_exporter": "python",
   "pygments_lexer": "ipython3",
   "version": "3.11.5"
  }
 },
 "nbformat": 4,
 "nbformat_minor": 1
}
